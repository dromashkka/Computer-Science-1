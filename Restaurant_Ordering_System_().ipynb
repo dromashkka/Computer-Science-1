{
  "nbformat": 4,
  "nbformat_minor": 0,
  "metadata": {
    "colab": {
      "provenance": []
    },
    "kernelspec": {
      "name": "python3",
      "display_name": "Python 3"
    },
    "language_info": {
      "name": "python"
    }
  },
  "cells": [
    {
      "cell_type": "markdown",
      "source": [
        "This project is a Restaurant Ordering System that allows customers\n",
        "to place orders, view a menu, and calculate the total bill.\n",
        "\n",
        "It will add dishes to the restaurant menu, ask for customers' data, make it able to order dishes, see all order history\n",
        "\n"
      ],
      "metadata": {
        "id": "ohWGV_HBeJtj"
      }
    },
    {
      "cell_type": "code",
      "execution_count": 1,
      "metadata": {
        "id": "h2rTu02jeEk1"
      },
      "outputs": [],
      "source": [
        "# 1. Creating a class named Dish to represent a dish on the restaurant’s menu using classes\n",
        "\n",
        "class Dish:\n",
        "    #using function def __init__(), initialize object-dish (self), add name, price, and the category of dish\n",
        "    def __init__(self, name, price, category):\n",
        "      self.name = name #making a variable for dish that is name\n",
        "      self.price = price #making a variable for dish that is price\n",
        "      self.category = category #making a variable for dish that is category\n",
        "\n",
        "    def __str__(self): #creating a function, how the dish will be presented in the menu\n",
        "      # return a string of the dish\n",
        "      return f\"{self.name} ({self.category}) - ${self.price}\"\n",
        "\n",
        "##making new dishes\n",
        "dish1 = Dish(\"Spaghetti Bolognese\", 12.99, \"Main Course\")\n",
        "dish2 = Dish(\"Tiramisu\", 6.50, \"Dessert\")\n",
        "dish3 = Dish(\"Caesar Salad\", 8.00, \"Appetizer\")\n",
        "dish4 = Dish(\"Soup\", 10.00, \"Main Course\")"
      ]
    },
    {
      "cell_type": "code",
      "source": [
        "# 2. Creating a class named Order to represent an order placed by a customer using classes\n",
        "\n",
        "class Order:\n",
        "  #using function def __init__(), initialize object-order (self), add its id, customer's name, and the dishes\n",
        "    def __init__(self, order_id, customer): # Default status - \"Pending\"\n",
        "      self.order_id = order_id #making a variable for order id\n",
        "      self.customer = customer #making a variable for the customer's name\n",
        "      self.ordered_dishes = []  #making a variable for a list of dishes\n",
        "      self.status = 'Pending'  # Default status - \"Pending\"\n",
        "\n",
        "    #using function def add_dish(), making it able to add dish to order list\n",
        "    def add_dish(self, dish):\n",
        "      #add a dish to the order\n",
        "      self.ordered_dishes.append(dish)\n",
        "\n",
        "    #using function def calculate_total(), making it able to calculate total cost\n",
        "    def calculate_total(self):\n",
        "      price_total = 0 #creating a variable to save here total cost\n",
        "      #using for, look at all dishes in order list and calculate the total cost of the order\n",
        "      for dish in self.ordered_dishes:\n",
        "        price_total += dish.price\n",
        "      # saving total price\n",
        "      return price_total\n",
        "\n",
        "    #this function allow changing the status for dish\n",
        "    def update_status(self, new_status):\n",
        "      #create a list of statuses\n",
        "      statuses = [\"Pending\", \"Preparing\", \"Completed\", \"Delivered\"]\n",
        "      #checking if the status is correct and replacing it\n",
        "      if new_status in statuses:\n",
        "        self.status = new_status\n",
        "      else:\n",
        "        print(\"Invalid status.\")\n",
        "\n",
        "    #using function def view_order(), making it able to view order\n",
        "    def view_order(self):\n",
        "      #print the details of the order\n",
        "      print(f\"Order ID: {self.order_id}\")\n",
        "      print(f\"Customer: {self.customer.name} ({self.customer.email})\")\n",
        "      print(\"Ordered Dishes:\")\n",
        "      for dish in self.ordered_dishes:\n",
        "        print(f\"  - {dish}\")\n",
        "      print(f\"Status: {self.status}\")\n",
        "      print(f\"Total: ${self.calculate_total()}\")"
      ],
      "metadata": {
        "id": "oHev8Jq8yUuG"
      },
      "execution_count": 2,
      "outputs": []
    },
    {
      "cell_type": "code",
      "source": [
        "# 3. Creating a class named Customer to represent a customer who places orders in Order using classes\n",
        "class Customer:\n",
        "    #using function def __init__(), initialize object-costumer (self), their name, email, and order history\n",
        "    def __init__(self, name, email):\n",
        "      self.name = name #making a variable for the customer that is name\n",
        "      self.email = email #making a variable for email\n",
        "      self.order_history = [] #creating an empty list for order history\n",
        "\n",
        "    #using function def place_order(), initialize object-place of order (self), adding order id, adding it to order history\n",
        "    def place_order(self, restaurant, dish_list):\n",
        "      # Creates a new Order and adds it to customer history and restaurant's orders\n",
        "      order_id = len(restaurant.orders) + 1 #len() gives numbers of all previous orders, but as we have a new order, add 1\n",
        "      order = Order(order_id, self) #creating Order object\n",
        "\n",
        "        # Add each selected dish to the order using add_dish()\n",
        "      for dish in dish_list:\n",
        "        order.add_dish(dish)\n",
        "\n",
        "      self.order_history.append(order) #add order in order history\n",
        "      restaurant.place_order(order) #adding order All orders\n",
        "      return order #save order"
      ],
      "metadata": {
        "id": "kqwwy0ku71f6"
      },
      "execution_count": 3,
      "outputs": []
    },
    {
      "cell_type": "code",
      "source": [
        "# 3. Creating a class named Restaurant to create a restaurant and add there menu and orders using classes\n",
        "class Restaurant:\n",
        "    #using function def __init__(), initialize object-restaurant (self), its menu, orders\n",
        "    def __init__(self):\n",
        "      self.menu = []  #list of Dish objects\n",
        "      self.orders = []  #list of Order objects\n",
        "\n",
        "    #this function adds dishes to menu\n",
        "    def add_dish_to_menu(self, dish):\n",
        "      #add a dish to the restaurant menu\n",
        "      self.menu.append(dish)\n",
        "\n",
        "    def place_order(self, order):\n",
        "      #add an order to the restaurant's list of orders\n",
        "      self.orders.append(order)\n",
        "\n",
        "    #this function displays all the menu in restaurant\n",
        "    def view_menu(self):\n",
        "      print(' ')\n",
        "      print('----- Restaurant Menu -----')\n",
        "      print(' ')\n",
        "      #display the restaurant menu\n",
        "      for dish in self.menu:\n",
        "        print(f\" - {dish}\")\n",
        "      print(' ')\n",
        "      print('---------------------------')\n",
        "      print(' ')\n",
        "\n",
        "    #this function displays all orders\n",
        "    def view_orders(self):\n",
        "        #display all orders\n",
        "        print(' ')\n",
        "        print(\"------- All Orders -------\")\n",
        "        print(' ')\n",
        "        for order in self.orders:\n",
        "            order.view_order()\n",
        "        print('--------------------------')\n",
        "        print(' ')"
      ],
      "metadata": {
        "id": "isaJ1F2oyY3C"
      },
      "execution_count": 4,
      "outputs": []
    },
    {
      "cell_type": "code",
      "source": [
        "# ========== TEST ==========\n",
        "\n",
        "#create a restaurant\n",
        "restaurant = Restaurant()\n",
        "\n",
        "#ddd dishes to the menu of restaurant\n",
        "restaurant.add_dish_to_menu(dish1)\n",
        "restaurant.add_dish_to_menu(dish2)\n",
        "restaurant.add_dish_to_menu(dish3)\n",
        "restaurant.add_dish_to_menu(dish4)\n",
        "\n",
        "#view the menu\n",
        "restaurant.view_menu()\n",
        "\n",
        "#create a customer\n",
        "customer = Customer(\"Daria Romanova\", \"crazy_daria@example.com\")\n",
        "\n",
        "# Customer places an order\n",
        "selected_dishes = [restaurant.menu[0], restaurant.menu[2]]  # Spaghetti and Caesar Salad\n",
        "order = customer.place_order(restaurant, selected_dishes)\n",
        "\n",
        "#view the placed order\n",
        "order.view_order()\n",
        "\n",
        "#view all orders in the restaurant\n",
        "restaurant.view_orders()"
      ],
      "metadata": {
        "colab": {
          "base_uri": "https://localhost:8080/"
        },
        "id": "4HKlBUoEylCa",
        "outputId": "bd0054c0-27e2-48b8-8699-b84c095ceafc"
      },
      "execution_count": 5,
      "outputs": [
        {
          "output_type": "stream",
          "name": "stdout",
          "text": [
            " \n",
            "----- Restaurant Menu -----\n",
            " \n",
            " - Spaghetti Bolognese (Main Course) - $12.99\n",
            " - Tiramisu (Dessert) - $6.5\n",
            " - Caesar Salad (Appetizer) - $8.0\n",
            " - Soup (Main Course) - $10.0\n",
            " \n",
            "---------------------------\n",
            " \n",
            "Order ID: 1\n",
            "Customer: Daria Romanova (crazy_daria@example.com)\n",
            "Ordered Dishes:\n",
            "  - Spaghetti Bolognese (Main Course) - $12.99\n",
            "  - Caesar Salad (Appetizer) - $8.0\n",
            "Status: Pending\n",
            "Total: $20.990000000000002\n",
            " \n",
            "------- All Orders -------\n",
            " \n",
            "Order ID: 1\n",
            "Customer: Daria Romanova (crazy_daria@example.com)\n",
            "Ordered Dishes:\n",
            "  - Spaghetti Bolognese (Main Course) - $12.99\n",
            "  - Caesar Salad (Appetizer) - $8.0\n",
            "Status: Pending\n",
            "Total: $20.990000000000002\n",
            "--------------------------\n",
            " \n"
          ]
        }
      ]
    }
  ]
}