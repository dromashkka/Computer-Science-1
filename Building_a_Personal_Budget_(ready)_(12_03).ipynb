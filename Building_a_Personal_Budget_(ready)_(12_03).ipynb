{
  "nbformat": 4,
  "nbformat_minor": 0,
  "metadata": {
    "colab": {
      "provenance": []
    },
    "kernelspec": {
      "name": "python3",
      "display_name": "Python 3"
    },
    "language_info": {
      "name": "python"
    }
  },
  "cells": [
    {
      "cell_type": "markdown",
      "source": [
        "This code was written to create a Personal Budget System.\n",
        "This program helps to add incomes and expenses (their description and amount), delete and modify them"
      ],
      "metadata": {
        "id": "8dWJeB_-0gQr"
      }
    },
    {
      "cell_type": "code",
      "source": [
        "# create an empty list to store income\n",
        "\n",
        "my_income = []\n",
        "\n",
        "#creating a function for adding income\n",
        "def add_income():\n",
        "  description = input('Enter the descripton of the income: ') #asking for the description\n",
        "  amount = float(input('Enter the amount of income: ')) #asking for amount of income\n",
        "  #create a dictionary 'income' to store all incomes\n",
        "  income = {\n",
        "      \"description\": description,\n",
        "      \"amount\": amount\n",
        "  }\n",
        "  my_income.append(income) #append income\n",
        "  print(f\"Income '{description}' added successfully\") #print a message\n",
        "\n",
        "add_income()"
      ],
      "metadata": {
        "id": "rxzSoypomsa8",
        "colab": {
          "base_uri": "https://localhost:8080/"
        },
        "outputId": "2cef84b4-3f36-4c5c-ce05-c52bbf468db5"
      },
      "execution_count": null,
      "outputs": [
        {
          "output_type": "stream",
          "name": "stdout",
          "text": [
            "Enter the descripton of the income: Salary\n",
            "Enter the amount of income: 1000\n",
            "Income 'Salary' added successfully\n"
          ]
        }
      ]
    },
    {
      "cell_type": "code",
      "source": [
        "# create an empty list for expenses\n",
        "\n",
        "my_expense = []\n",
        "\n",
        "#creating a function for adding expense\n",
        "def add_expense():\n",
        "  description = input('Enter the descripton of the expense: ') #asking for the description\n",
        "  amount = float(input('Enter the amount of expense: ')) #asking for amount of expense\n",
        "  #create a dictionary 'expense' to store all expenses\n",
        "  expense = {\n",
        "      \"description\": description,\n",
        "      \"amount\": amount\n",
        "  }\n",
        "  my_expense.append(expense) #append expense\n",
        "  print(f\"Expense '{description}' added successfully\") #print a message\n",
        "\n",
        "add_expense()"
      ],
      "metadata": {
        "id": "A8jqEuBRm5m_",
        "colab": {
          "base_uri": "https://localhost:8080/"
        },
        "outputId": "b6a0f63b-149f-47b9-fd36-e1702eb0c9a5"
      },
      "execution_count": null,
      "outputs": [
        {
          "output_type": "stream",
          "name": "stdout",
          "text": [
            "Enter the descripton of the expense: school\n",
            "Enter the amount of expense: 100\n",
            "Expense 'school' added successfully\n"
          ]
        }
      ]
    },
    {
      "cell_type": "code",
      "source": [
        "#creating a function for calculation of total income, total expenses and balance left\n",
        "def view_summary():\n",
        "  #creating variables for income and expenses\n",
        "  total_income = 0\n",
        "  total_expense = 0\n",
        "  #looking at all incomes (i) in list 'my_income' to calculate total_income, using for\n",
        "  for i in my_income:\n",
        "    #calculating new income, getting access to income of i using the key 'amount'\n",
        "    total_income += i['amount']\n",
        "\n",
        "  #looking at all expenses (g) in list 'my_expense' to calculate total_expense, using for\n",
        "  for g in my_expense:\n",
        "    #calculating new expenses, getting access to expenses of i using the key 'amount'\n",
        "    total_expense += g['amount']\n",
        "\n",
        "  #calculating balance left\n",
        "  balance = total_income - total_expense\n",
        "  #printing a message\n",
        "  print(\"your total income is: \",  total_income)\n",
        "  print(\"your total expense is: \", total_expense)\n",
        "  print(\"your total balance is: \", balance)\n",
        "\n",
        "view_summary()\n",
        "\n"
      ],
      "metadata": {
        "id": "W82Z4hdqnDf3",
        "colab": {
          "base_uri": "https://localhost:8080/"
        },
        "outputId": "4e0d50e7-8dd6-408b-d69b-fb57b251fabf"
      },
      "execution_count": null,
      "outputs": [
        {
          "output_type": "stream",
          "name": "stdout",
          "text": [
            "your total income is:  1000.0\n",
            "your total expense is:  100.0\n",
            "your total balance is:  900.0\n"
          ]
        }
      ]
    },
    {
      "cell_type": "code",
      "source": [
        "#creating a function for deleting incomes and expenses\n",
        "## Description of the function:\n",
        "### this function will ask for the section that needs to be deleted (income or salary). Then, based on the answer, ask for which income/expense the user wants to delete. Then delete it.\n",
        "def delete_entry():\n",
        "  #ask for what we want to delete: income or expenses\n",
        "  delete = input('What would you like to remove? ')\n",
        "  #using if to check if it is income or expense\n",
        "  if delete == 'income':\n",
        "    #ask for type of income to delete\n",
        "    des = input('what type of income would you like to remove? ')\n",
        "    #using for, search for the type of income in 'my_income'\n",
        "    for i in my_income:\n",
        "      #using if to find if the description is the same as in the entry. using the key description to find it out.\n",
        "      if i['description'] == des:\n",
        "        #removing income\n",
        "        my_income.remove(i)\n",
        "        #printing message\n",
        "        print(\"Deleted successfully\")\n",
        "        return #using return to save\n",
        "      else:\n",
        "        print(\"not found\")\n",
        "\n",
        "  elif delete == 'expense':\n",
        "    #ask for type of expense to delete\n",
        "    des = input('what type of expense would you like to remove? ')\n",
        "    #using for, search for the type of expense in 'my_expense'\n",
        "    for i in my_expense:\n",
        "      #using if to find if the description is the same as in the entry. using the key description to find it out.\n",
        "      if i['description'] == des:\n",
        "        #removing expense\n",
        "        my_expense.remove(i)\n",
        "        print(\"Deleted successfully\")\n",
        "        return #using return to save\n",
        "      else:\n",
        "        print(\"not found\")\n",
        "#if asked for something else\n",
        "  else:\n",
        "    print(\"invalid option\")\n",
        "\n",
        "delete_entry()"
      ],
      "metadata": {
        "id": "2yuu8xETnbPE",
        "colab": {
          "base_uri": "https://localhost:8080/"
        },
        "outputId": "bd47c4b8-5cad-4ea6-c455-5e01d4da623a"
      },
      "execution_count": null,
      "outputs": [
        {
          "output_type": "stream",
          "name": "stdout",
          "text": [
            "What would you like to remove?income\n",
            "what type of income would you like to remove?Salary\n",
            "Deleted successfully\n"
          ]
        }
      ]
    },
    {
      "cell_type": "code",
      "source": [
        "#creating a function for deleting incomes and expenses\n",
        "## Description of the function:\n",
        "### this function will ask for the section that needs to be modified (income or salary). Then, based on the answer, ask for which income/expense the user wants to modify. Then asks for additional information (description, amount) to modify it.\n",
        "def modify_entry():\n",
        "  #ask for what we want to modify: income or expenses\n",
        "  modify = input('What would you like to modify? ')\n",
        "  #using if to check if it is income or expense\n",
        "  if modify == 'income':\n",
        "    #ask for type of income to modify\n",
        "    des = input('what type of income would you like to modify? ')\n",
        "    #using for, search for the type of income in 'my_income'\n",
        "    for i in my_income:\n",
        "      #using if to find if the description is the same as in the entry. using the key description to find it out.\n",
        "      if i['description'] == des:\n",
        "        new_description = input('Enter the descripton of the income: ') #add new description\n",
        "        new_amount = float(input('Enter the amount of income: ')) #add new amount\n",
        "        i['description'] = new_description #save in list as description\n",
        "        i['amount'] = new_amount #save in list as amount\n",
        "        print(\"Edited successfully\")\n",
        "        return #save\n",
        "      else:\n",
        "        print(\"Not found\")\n",
        "\n",
        "  elif modify == 'expense':\n",
        "    #ask for type of expense to delete\n",
        "    des = input('what type of expense would you like to modify?')\n",
        "    #using for, search for the type of expense in 'my_expense'\n",
        "    for i in my_expense:\n",
        "      #using if to find if the description is the same as in the entry. using the key description to find it out.\n",
        "      if i['description'] == des:\n",
        "        new_description = input('Enter the descripton of the expense: ') #add new description\n",
        "        new_amount = float(input('Enter the amount of expense: ')) #add new amount\n",
        "        i['description'] = new_description #save in list as description\n",
        "        i['amount'] = new_amount #save in list as amount\n",
        "        print(\"Edited successfully\")\n",
        "        return #save\n",
        "      else:\n",
        "        print(\"Not found\")\n",
        "  else:\n",
        "    print(\"Invalid option\")\n",
        "\n"
      ],
      "metadata": {
        "id": "HfY3_ywinvnE"
      },
      "execution_count": null,
      "outputs": []
    }
  ]
}