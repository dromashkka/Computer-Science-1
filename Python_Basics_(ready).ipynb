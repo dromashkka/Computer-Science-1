{
  "nbformat": 4,
  "nbformat_minor": 0,
  "metadata": {
    "colab": {
      "provenance": []
    },
    "kernelspec": {
      "name": "python3",
      "display_name": "Python 3"
    },
    "language_info": {
      "name": "python"
    }
  },
  "cells": [
    {
      "cell_type": "markdown",
      "source": [
        "1. Assigning Values to Variables"
      ],
      "metadata": {
        "id": "K44dvtWKEM09"
      }
    },
    {
      "cell_type": "code",
      "execution_count": null,
      "metadata": {
        "id": "A--UCi-9Rd6q"
      },
      "outputs": [],
      "source": [
        "#Assigning Values to Variables\n",
        "integer = 3 #creating an integer\n",
        "float_value = 3.14 #creating a float\n",
        "string = 'Hello' #Creating a string\n"
      ]
    },
    {
      "cell_type": "markdown",
      "source": [
        "2. Data Types"
      ],
      "metadata": {
        "id": "G8ET-uMFES4H"
      }
    },
    {
      "cell_type": "code",
      "source": [
        "#Data Types\n",
        "age1 = 18 #integer\n",
        "\n",
        "print (type(age1)) #should print int\n",
        "\n",
        "age2 = 18.5 #float\n",
        "\n",
        "print (type(age2)) #should print float\n",
        "\n",
        "is_student = True #bool\n",
        "\n",
        "print(type(is_student)) #should print bool"
      ],
      "metadata": {
        "colab": {
          "base_uri": "https://localhost:8080/"
        },
        "id": "Se7AfB7NcZzN",
        "outputId": "b4f93f85-f1ca-41ea-9239-fb17d6c17f1f"
      },
      "execution_count": null,
      "outputs": [
        {
          "output_type": "stream",
          "name": "stdout",
          "text": [
            "<class 'int'>\n",
            "<class 'float'>\n",
            "<class 'bool'>\n"
          ]
        }
      ]
    },
    {
      "cell_type": "markdown",
      "source": [
        "3. Basic Input and Output"
      ],
      "metadata": {
        "id": "LQt3zkVQEWLd"
      }
    },
    {
      "cell_type": "code",
      "source": [
        "#Basic Input and Output\n",
        "\n",
        "name = input('What is your name?') #asking for name\n",
        "print('Hello,', name, '!')\n",
        "\n",
        "age = int(input('How old are you?')) #asking for age\n",
        "if age >= 18: #checking if minor or adult\n",
        "  print('You can vote!')\n",
        "else:\n",
        "  print('You are a minor')"
      ],
      "metadata": {
        "colab": {
          "base_uri": "https://localhost:8080/"
        },
        "id": "JvDg1CbigIWw",
        "outputId": "a1b0b9b0-a89f-40e8-a5d9-2eac3dc827c9"
      },
      "execution_count": null,
      "outputs": [
        {
          "output_type": "stream",
          "name": "stdout",
          "text": [
            "f\n",
            "Hello, f !\n",
            "20\n",
            "You are 20 years old.\n"
          ]
        }
      ]
    },
    {
      "cell_type": "markdown",
      "source": [
        "4. Converting Data Types"
      ],
      "metadata": {
        "id": "zZzn3lc9EZWk"
      }
    },
    {
      "cell_type": "code",
      "source": [
        "#Converting Data Types\n",
        "\n",
        "#FOR INTEGER\n",
        "n = str(input()) #asking for number and making it string\n",
        "\n",
        "new = int(n) #converting into integer\n",
        "\n",
        "print(new**2) #printing sqare\n",
        "\n",
        "#FOR FLOAT\n",
        "f = str(input()) #asking for number and making it string\n",
        "new2 = float(f)\n",
        "\n",
        "print(f*2)"
      ],
      "metadata": {
        "id": "qz3pIys_gJu5"
      },
      "execution_count": null,
      "outputs": []
    },
    {
      "cell_type": "markdown",
      "source": [
        "5. Arithmetic Operators"
      ],
      "metadata": {
        "id": "iov8mrigEb4z"
      }
    },
    {
      "cell_type": "code",
      "source": [
        "#Arithmetic Operators\n",
        "\n",
        "print(45 + 67)\n",
        "print(156 - 89)\n",
        "print(12 * 7)\n",
        "print(100/4)\n",
        "print(10 % 3)\n",
        "print(3**4)"
      ],
      "metadata": {
        "id": "76So12ICga7z"
      },
      "execution_count": null,
      "outputs": []
    },
    {
      "cell_type": "markdown",
      "source": [
        "6. Comparison Operators"
      ],
      "metadata": {
        "id": "bjeYcTilEiUd"
      }
    },
    {
      "cell_type": "code",
      "source": [
        "#Comparison Operators\n",
        "\n",
        "#asking for A and B\n",
        "a = int(input())\n",
        "b = int(input())\n",
        "\n",
        "#checking if they are equal, smaller, greater\n",
        "if a > b:\n",
        "  print('A is greater than B')\n",
        "elif a == b:\n",
        "  print('A is equal to B')\n",
        "else:\n",
        "  print('A is smaller than B')"
      ],
      "metadata": {
        "id": "BR6bPVSShJoj"
      },
      "execution_count": null,
      "outputs": []
    },
    {
      "cell_type": "markdown",
      "source": [
        "7. Logical Operators"
      ],
      "metadata": {
        "id": "oIqVfFANEl7R"
      }
    },
    {
      "cell_type": "code",
      "source": [
        "#Logical Operators\n",
        "\n",
        "#1\n",
        "a = 10 #creating a number\n",
        "\n",
        "if a > 10 and a < 20: #checking if >10 and <20\n",
        "  print('number is greater than 10 and less than 20')\n",
        "elif a <= 10: #checking if less than 10\n",
        "  print('number is less or equal to 10')\n",
        "else:\n",
        "  print('number is greater or equal to 20')\n",
        "\n",
        "\n",
        "#2\n",
        "\n",
        "n = int(input())\n",
        "\n",
        "if n > 50 or 5 > n:\n",
        "  print('number is less than 5 or greater than 50')\n",
        "else:\n",
        "  print('out of range')"
      ],
      "metadata": {
        "id": "kv-hPFZ5hOpx"
      },
      "execution_count": null,
      "outputs": []
    },
    {
      "cell_type": "markdown",
      "source": [
        "8. Conditional Statements"
      ],
      "metadata": {
        "id": "ymf7IvYPEr3r"
      }
    },
    {
      "cell_type": "code",
      "source": [
        "#Conditional Statements\n",
        "\n",
        "#1\n",
        "age = int(input('How old are you?')) #asking for age\n",
        "if age >= 18: #checking if minor or adult\n",
        "  print('You are an adult!')\n",
        "else:\n",
        "  print('You are a minor')\n",
        "\n",
        "\n",
        "#2\n",
        "\n",
        "n = int(input()) #asking for a number\n",
        "\n",
        "if n % 15 == 0: #checking remainder of division by 5 and 3\n",
        "  print('FizzBuzz')\n",
        "elif n % 5 == 0 and n % 3 != 0: #checking division by 5\n",
        "  print('Buzz')\n",
        "elif n % 3 == 0 and n % 5 != 0: #checking  division by 3\n",
        "  print('Fizz')\n",
        "else:\n",
        "  print(n)"
      ],
      "metadata": {
        "id": "KZ0C4R1thRaR"
      },
      "execution_count": null,
      "outputs": []
    },
    {
      "cell_type": "markdown",
      "source": [
        "9. Loops"
      ],
      "metadata": {
        "id": "0x4KE415EulP"
      }
    },
    {
      "cell_type": "code",
      "source": [
        "#Loops\n",
        "\n",
        "#for loop\n",
        "for i in range (1, 11): #looking for all numbers from 1 to 10\n",
        "  print(i)\n",
        "\n",
        "\n",
        "#while loop\n",
        "k = 2\n",
        "while k <= 20: #because want k to be no more than 20. k starts from 2\n",
        "  print(k)\n",
        "  k += 2 #because want even numbers\n",
        "\n",
        "\n",
        "#program\n",
        "n = int(input()) #ask for input of integer number\n",
        "\n",
        "for i in range(1, n+1): #looking for all numbers from 1 to n\n",
        "  if i%4 == 0: #finding the remainder and if it is equal to 0\n",
        "    print(i)"
      ],
      "metadata": {
        "colab": {
          "base_uri": "https://localhost:8080/"
        },
        "id": "tj8mVegEhTPA",
        "outputId": "a6acf0dd-8ab0-4ac2-b63a-edb8bf735f81"
      },
      "execution_count": null,
      "outputs": [
        {
          "metadata": {
            "tags": null
          },
          "name": "stdout",
          "output_type": "stream",
          "text": [
            "1\n",
            "2\n",
            "3\n",
            "4\n",
            "5\n",
            "6\n",
            "7\n",
            "8\n",
            "9\n",
            "10\n",
            "2\n",
            "4\n",
            "6\n",
            "8\n",
            "10\n",
            "12\n",
            "14\n",
            "16\n",
            "18\n",
            "20\n"
          ]
        }
      ]
    },
    {
      "cell_type": "markdown",
      "source": [
        "10. Nested Loops"
      ],
      "metadata": {
        "id": "yKO2r9lXEzaV"
      }
    },
    {
      "cell_type": "code",
      "source": [
        "#Nested Loops\n",
        "\n",
        "for i in range(1, 6): #starts from 1 and to print 5 strings need to put 6 otherwise it stops before string 5\n",
        "  print(i*'*') #multiplying i (which is changing) by symbol '*' which gives nested loop of stars"
      ],
      "metadata": {
        "colab": {
          "base_uri": "https://localhost:8080/"
        },
        "id": "LTnbTIZghWgo",
        "outputId": "9ba49e4f-0a3b-4689-ac5c-0c76b65dbabd"
      },
      "execution_count": null,
      "outputs": [
        {
          "output_type": "stream",
          "name": "stdout",
          "text": [
            "*\n",
            "**\n",
            "***\n",
            "****\n",
            "*****\n"
          ]
        }
      ]
    }
  ]
}