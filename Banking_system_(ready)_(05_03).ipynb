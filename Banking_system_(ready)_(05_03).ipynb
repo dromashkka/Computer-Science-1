{
  "nbformat": 4,
  "nbformat_minor": 0,
  "metadata": {
    "colab": {
      "provenance": []
    },
    "kernelspec": {
      "name": "python3",
      "display_name": "Python 3"
    },
    "language_info": {
      "name": "python"
    }
  },
  "cells": [
    {
      "cell_type": "markdown",
      "source": [
        "In this project, a simple banking system was created. It allows users to perform\n",
        "various actions based on their input.\n",
        "The user can log in with a login and password, and check the balance, deposit, and withdraw money."
      ],
      "metadata": {
        "id": "pc_ruTctb_nO"
      }
    },
    {
      "cell_type": "code",
      "execution_count": 1,
      "metadata": {
        "id": "8YpoN6m9Y4wd",
        "colab": {
          "base_uri": "https://localhost:8080/"
        },
        "outputId": "bbd955ce-8795-46e5-dfa5-1525932a8bbf"
      },
      "outputs": [
        {
          "output_type": "stream",
          "name": "stdout",
          "text": [
            "Login: 1\n",
            "Password: 2\n",
            "Access\n",
            "Menu:\n",
            "1. Check balance\n",
            "2. Deposit money\n",
            "3. Withdraw money\n",
            "4. Exit the system\n",
            "4\n",
            "Goodbye\n"
          ]
        }
      ],
      "source": [
        "#given\n",
        "login = \"1\"\n",
        "password = \"2\"\n",
        "balance= 1000000\n",
        "attempts = 0\n",
        "\n",
        "#having only 3 attempts and checking them\n",
        "#using while loop to create 3 attempts and while our attempts are less than 3 keep asking for data. and when everything is right use command break to stop asking\n",
        "while attempts < 3:\n",
        "  elogin = input(\"Login: \") #asking for login\n",
        "  epassword= input(\"Password: \") #asking for password\n",
        "  # checking an access\n",
        "  if elogin == login and epassword == password: #checking accuracy of login and password\n",
        "    print(\"Access\")\n",
        "    break # to stop asking for login and password\n",
        "  else:\n",
        "    attempts+=1\n",
        "    print(\"Something is wrong. Try again\")\n",
        "# counting attempts\n",
        "if attempts ==3:\n",
        "  print(\"Too many attempts\")\n",
        "\n",
        "else:\n",
        "#printing menu\n",
        "#while true will allow printing the menu after every point\n",
        "#while loop runs while a condition is True. we did not give a condition; therefore, it is always True, and only break can stop the loop, in 4. Exit\n",
        "    while True:\n",
        "      print(\"Menu:\")\n",
        "      print(\"1. Check balance\")\n",
        "      print(\"2. Deposit money\")\n",
        "      print(\"3. Withdraw money\")\n",
        "      print(\"4. Exit the system\")\n",
        "      #asking for a number in the menu. in variable k, store it as an integer to operate after and use for 'if'\n",
        "      k = int(input())\n",
        "\n",
        "# using if/elif/else to look at different situations\n",
        "\n",
        "##Menu 1: Check balance\n",
        "#for 1\n",
        "      if k == 1:\n",
        "        print(\"Your ballance is\", balance)\n",
        "\n",
        "## Menu 2: Deposit money\n",
        "#for 2\n",
        "      elif k == 2:\n",
        "        deposit = int(input(\"How much would you like to deposit? \")) #asking for deposit\n",
        "        if deposit > 0: #checking accuracy of it. if > 0 then is correct.\n",
        "          balance += deposit\n",
        "          print(\"Your balance now is\", balance) #writing new balance\n",
        "        else:\n",
        "          print(\"Write an accurate number\")\n",
        "\n",
        "## Menu 3: Withdraw money\n",
        "#for 3\n",
        "      elif k == 3:\n",
        "        withdraw = int(input(\"How much would you like to withdraw? \")) #asking for withdraw\n",
        "        #checking accuracy that should be > 0\n",
        "        if withdraw > 0:\n",
        "          balance -= withdraw\n",
        "          #checking the ability to withdraw\n",
        "          if balance < 0:\n",
        "            print(\"Not enough money\")\n",
        "          else:\n",
        "            print(\"Your ballance now is\", balance)\n",
        "        else:\n",
        "          print(\"Write an accurate number\")\n",
        "\n",
        "## Menu 4: Exit the system\n",
        "#for 4\n",
        "      else:\n",
        "        print(\"Goodbye\")\n",
        "        break #breaking menu, so won't see it again"
      ]
    }
  ]
}