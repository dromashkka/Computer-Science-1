{
  "nbformat": 4,
  "nbformat_minor": 0,
  "metadata": {
    "colab": {
      "provenance": []
    },
    "kernelspec": {
      "name": "python3",
      "display_name": "Python 3"
    },
    "language_info": {
      "name": "python"
    }
  },
  "cells": [
    {
      "cell_type": "markdown",
      "source": [
        "***1. Import Pandas***\n",
        "\n"
      ],
      "metadata": {
        "id": "cYytH0GuOSO4"
      }
    },
    {
      "cell_type": "code",
      "execution_count": null,
      "metadata": {
        "colab": {
          "base_uri": "https://localhost:8080/"
        },
        "id": "YLsuyHDYO0_G",
        "outputId": "9390e6a7-2c3b-429b-d184-f5c6b9c11662"
      },
      "outputs": [
        {
          "output_type": "stream",
          "name": "stdout",
          "text": [
            "Requirement already satisfied: pandas in /usr/local/lib/python3.11/dist-packages (2.2.2)\n",
            "Requirement already satisfied: numpy>=1.23.2 in /usr/local/lib/python3.11/dist-packages (from pandas) (2.0.2)\n",
            "Requirement already satisfied: python-dateutil>=2.8.2 in /usr/local/lib/python3.11/dist-packages (from pandas) (2.8.2)\n",
            "Requirement already satisfied: pytz>=2020.1 in /usr/local/lib/python3.11/dist-packages (from pandas) (2025.2)\n",
            "Requirement already satisfied: tzdata>=2022.7 in /usr/local/lib/python3.11/dist-packages (from pandas) (2025.2)\n",
            "Requirement already satisfied: six>=1.5 in /usr/local/lib/python3.11/dist-packages (from python-dateutil>=2.8.2->pandas) (1.17.0)\n"
          ]
        }
      ],
      "source": [
        "# import pandas\n",
        "\n",
        "!pip install pandas\n"
      ]
    },
    {
      "cell_type": "code",
      "source": [
        "# giving short name\n",
        "\n",
        "import pandas as pd"
      ],
      "metadata": {
        "id": "ZTu7oqvuVFy4"
      },
      "execution_count": null,
      "outputs": []
    },
    {
      "cell_type": "markdown",
      "source": [
        "2. Create a DataFrame\n",
        "\n"
      ],
      "metadata": {
        "id": "fz2PUPzhOaL_"
      }
    },
    {
      "cell_type": "code",
      "source": [
        "# creating dataset with all information as a dictionary\n",
        "\n",
        "data = {\n",
        "    'Name': ['John', 'Alice', 'Bob', 'Charlie', 'David'],\n",
        "    'Age': [23, 30, 25, 35, 28],\n",
        "    'City': ['New York', 'Los Angeles', 'Chicago', 'San Francisco', 'New York'],\n",
        "    'Salary': [50000, 70000, 45000, 80000, 55000]\n",
        "}\n",
        "\n",
        "#creating dataframe\n",
        "\n",
        "df = pd.DataFrame(data)"
      ],
      "metadata": {
        "id": "0AIqG3mkVX1i"
      },
      "execution_count": null,
      "outputs": []
    },
    {
      "cell_type": "markdown",
      "source": [
        "3. Print the DataFrame df to confirm it has been created."
      ],
      "metadata": {
        "id": "btJ8P_WNO4qh"
      }
    },
    {
      "cell_type": "code",
      "source": [
        "print(df)"
      ],
      "metadata": {
        "id": "K6rpaO-WO9Dw"
      },
      "execution_count": null,
      "outputs": []
    },
    {
      "cell_type": "markdown",
      "source": [
        "4. Basic operations"
      ],
      "metadata": {
        "id": "NQUBQz8APA1t"
      }
    },
    {
      "cell_type": "code",
      "source": [
        "# display first few rows\n",
        "\n",
        "df.head()"
      ],
      "metadata": {
        "id": "Rh4TYXYxbVFV"
      },
      "execution_count": null,
      "outputs": []
    },
    {
      "cell_type": "code",
      "source": [
        "#display the \"Name\" and \"Salary\" columns only.\n",
        "\n",
        "print(df[['Name', 'Salary']])"
      ],
      "metadata": {
        "colab": {
          "base_uri": "https://localhost:8080/"
        },
        "id": "xYlRVjDhPMdT",
        "outputId": "fce5baf7-586c-4525-dd85-bb650fe4fd6c"
      },
      "execution_count": null,
      "outputs": [
        {
          "output_type": "stream",
          "name": "stdout",
          "text": [
            "      Name  Salary\n",
            "0     John   50000\n",
            "1    Alice   70000\n",
            "2      Bob   45000\n",
            "3  Charlie   80000\n",
            "4    David   55000\n"
          ]
        }
      ]
    },
    {
      "cell_type": "code",
      "source": [
        "# printing first 3 lines of our dataframe\n",
        "\n",
        "print(df.head(3))"
      ],
      "metadata": {
        "colab": {
          "base_uri": "https://localhost:8080/"
        },
        "id": "oHytS7p0XGtZ",
        "outputId": "afb43924-3f2f-4879-c364-a195cd764ee6"
      },
      "execution_count": null,
      "outputs": [
        {
          "output_type": "stream",
          "name": "stdout",
          "text": [
            "    Name  Age         City  Salary\n",
            "0   John   23     New York   50000\n",
            "1  Alice   30  Los Angeles   70000\n",
            "2    Bob   25      Chicago   45000\n"
          ]
        }
      ]
    },
    {
      "cell_type": "code",
      "source": [
        "# calculating avarage salary of all people\n",
        "\n",
        "av_salary = df['Salary'].mean()\n",
        "print(av_salary)"
      ],
      "metadata": {
        "colab": {
          "base_uri": "https://localhost:8080/"
        },
        "id": "7AhdDaymX1dF",
        "outputId": "e648a49e-e02f-44ce-b866-d24b67a94088"
      },
      "execution_count": null,
      "outputs": [
        {
          "output_type": "stream",
          "name": "stdout",
          "text": [
            "60000.0\n"
          ]
        }
      ]
    },
    {
      "cell_type": "code",
      "source": [
        "#selecting by age that should no less than 30\n",
        "\n",
        "filtered_age = df[df['Age'] >= 30]\n",
        "print(filtered_age)"
      ],
      "metadata": {
        "colab": {
          "base_uri": "https://localhost:8080/"
        },
        "id": "fA6vRwa4Ym4p",
        "outputId": "07af4c74-67d1-4e6a-9259-3e545ff86d67"
      },
      "execution_count": null,
      "outputs": [
        {
          "output_type": "stream",
          "name": "stdout",
          "text": [
            "      Name  Age           City  Salary\n",
            "1    Alice   30    Los Angeles   70000\n",
            "3  Charlie   35  San Francisco   80000\n"
          ]
        }
      ]
    },
    {
      "cell_type": "markdown",
      "source": [
        "5. Sorting"
      ],
      "metadata": {
        "id": "OD16vaz-P98C"
      }
    },
    {
      "cell_type": "code",
      "source": [
        "# sort df by salary. from greatest to smallest\n",
        "\n",
        "sorted_df = df.sort_values(by = 'Salary', ascending = False)\n",
        "\n",
        "print(sorted_df)"
      ],
      "metadata": {
        "colab": {
          "base_uri": "https://localhost:8080/"
        },
        "id": "-BpjVmcUaMLx",
        "outputId": "cc573436-6454-4683-9d4a-ad51165dda2e"
      },
      "execution_count": null,
      "outputs": [
        {
          "output_type": "stream",
          "name": "stdout",
          "text": [
            "      Name  Age           City  Salary\n",
            "3  Charlie   35  San Francisco   80000\n",
            "1    Alice   30    Los Angeles   70000\n",
            "4    David   28       New York   55000\n",
            "0     John   23       New York   50000\n",
            "2      Bob   25        Chicago   45000\n"
          ]
        }
      ]
    },
    {
      "cell_type": "code",
      "source": [
        "# sort df by city and age. first sort by City - from A to Z; then in each City that is the same for 2 or more people sort by age that starts from largest to smallest\n",
        "\n",
        "sorted_df = df.sort_values(by = ['City', 'Age'], ascending = [True, False])\n",
        "\n",
        "print(sorted_df)"
      ],
      "metadata": {
        "colab": {
          "base_uri": "https://localhost:8080/"
        },
        "id": "kJRzDvwjcQc4",
        "outputId": "31005388-fa65-40eb-9e35-84ef18b64818"
      },
      "execution_count": null,
      "outputs": [
        {
          "output_type": "stream",
          "name": "stdout",
          "text": [
            "      Name  Age           City  Salary\n",
            "2      Bob   25        Chicago   45000\n",
            "1    Alice   30    Los Angeles   70000\n",
            "4    David   28       New York   55000\n",
            "0     John   23       New York   50000\n",
            "3  Charlie   35  San Francisco   80000\n"
          ]
        }
      ]
    },
    {
      "cell_type": "markdown",
      "source": [
        "6. Missing data"
      ],
      "metadata": {
        "id": "jjfeGCTkQA5B"
      }
    },
    {
      "cell_type": "code",
      "source": [
        "#deleting positions for people\n",
        "\n",
        "df.loc[2, 'Salary'] = None  # Set Salary for Bob to None, because we need to delete the position. It cannot be empty; therefore, we change it to 'None'\n",
        "df.loc[4, 'City'] = None    # Set City for David to None, because we need to delete the position. It cannot be empty; therefore, we change it to 'None'\n",
        "\n",
        "print(df)"
      ],
      "metadata": {
        "colab": {
          "base_uri": "https://localhost:8080/"
        },
        "id": "D1f-CpQAd51H",
        "outputId": "fee109a6-0ad4-4bc4-bc15-057fd5c8867e"
      },
      "execution_count": null,
      "outputs": [
        {
          "output_type": "stream",
          "name": "stdout",
          "text": [
            "      Name  Age           City   Salary\n",
            "0     John   23       New York  50000.0\n",
            "1    Alice   30    Los Angeles  70000.0\n",
            "2      Bob   25        Chicago      NaN\n",
            "3  Charlie   35  San Francisco  80000.0\n",
            "4    David   28           None  55000.0\n"
          ]
        }
      ]
    },
    {
      "cell_type": "code",
      "source": [
        "#renaming positions for people\n",
        "\n",
        "df.loc[2, 'Salary'] = df['Salary'].mean() #making it mean salary of other people together\n",
        "df.loc[4, 'City'] = 'Unknown' #making it unknown\n",
        "\n",
        "print(df)"
      ],
      "metadata": {
        "colab": {
          "base_uri": "https://localhost:8080/"
        },
        "id": "vR5SlxO1e4g_",
        "outputId": "77126105-9b40-4094-b9ef-89bd85d09c67"
      },
      "execution_count": null,
      "outputs": [
        {
          "output_type": "stream",
          "name": "stdout",
          "text": [
            "      Name  Age           City   Salary\n",
            "0     John   23       New York  50000.0\n",
            "1    Alice   30    Los Angeles  70000.0\n",
            "2      Bob   25        Chicago  63750.0\n",
            "3  Charlie   35  San Francisco  80000.0\n",
            "4    David   28        Unknown  55000.0\n"
          ]
        }
      ]
    },
    {
      "cell_type": "code",
      "source": [
        "#Drop any rows where there is a missing value.\n",
        "\n",
        "df_cleaned = df.dropna()\n",
        "\n",
        "print(df_cleaned)"
      ],
      "metadata": {
        "colab": {
          "base_uri": "https://localhost:8080/"
        },
        "id": "CzmUGLpGgnzo",
        "outputId": "498bf01d-d508-4dd8-b4be-d09185952dde"
      },
      "execution_count": null,
      "outputs": [
        {
          "output_type": "stream",
          "name": "stdout",
          "text": [
            "      Name  Age           City   Salary\n",
            "0     John   23       New York  50000.0\n",
            "1    Alice   30    Los Angeles  70000.0\n",
            "2      Bob   25        Chicago  63750.0\n",
            "3  Charlie   35  San Francisco  80000.0\n",
            "4    David   28        Unknown  55000.0\n"
          ]
        }
      ]
    },
    {
      "cell_type": "markdown",
      "source": [
        "7. Saving document\n"
      ],
      "metadata": {
        "id": "LJVRkl1vQ-7L"
      }
    },
    {
      "cell_type": "code",
      "source": [
        "from google.colab import files #to save the document, used especially in google colab\n",
        "\n",
        "df_cleaned.to_csv('panda.csv', index = False)\n",
        "\n",
        "files.download('panda.csv')"
      ],
      "metadata": {
        "colab": {
          "base_uri": "https://localhost:8080/",
          "height": 16
        },
        "id": "K6RSqGP4j47w",
        "outputId": "39350623-a50d-4de9-9416-0679f5084aff"
      },
      "execution_count": null,
      "outputs": [
        {
          "output_type": "display_data",
          "data": {
            "text/plain": [
              "<IPython.core.display.Javascript object>"
            ],
            "application/javascript": [
              "\n",
              "    async function download(id, filename, size) {\n",
              "      if (!google.colab.kernel.accessAllowed) {\n",
              "        return;\n",
              "      }\n",
              "      const div = document.createElement('div');\n",
              "      const label = document.createElement('label');\n",
              "      label.textContent = `Downloading \"${filename}\": `;\n",
              "      div.appendChild(label);\n",
              "      const progress = document.createElement('progress');\n",
              "      progress.max = size;\n",
              "      div.appendChild(progress);\n",
              "      document.body.appendChild(div);\n",
              "\n",
              "      const buffers = [];\n",
              "      let downloaded = 0;\n",
              "\n",
              "      const channel = await google.colab.kernel.comms.open(id);\n",
              "      // Send a message to notify the kernel that we're ready.\n",
              "      channel.send({})\n",
              "\n",
              "      for await (const message of channel.messages) {\n",
              "        // Send a message to notify the kernel that we're ready.\n",
              "        channel.send({})\n",
              "        if (message.buffers) {\n",
              "          for (const buffer of message.buffers) {\n",
              "            buffers.push(buffer);\n",
              "            downloaded += buffer.byteLength;\n",
              "            progress.value = downloaded;\n",
              "          }\n",
              "        }\n",
              "      }\n",
              "      const blob = new Blob(buffers, {type: 'application/binary'});\n",
              "      const a = document.createElement('a');\n",
              "      a.href = window.URL.createObjectURL(blob);\n",
              "      a.download = filename;\n",
              "      div.appendChild(a);\n",
              "      a.click();\n",
              "      div.remove();\n",
              "    }\n",
              "  "
            ]
          },
          "metadata": {}
        },
        {
          "output_type": "display_data",
          "data": {
            "text/plain": [
              "<IPython.core.display.Javascript object>"
            ],
            "application/javascript": [
              "download(\"download_051820ba-e058-4ebf-bbab-3ed9efdf7f1a\", \"panda.csv\", 156)"
            ]
          },
          "metadata": {}
        }
      ]
    },
    {
      "cell_type": "markdown",
      "source": [
        "8. Group by \"City\" and find the average salary for each city."
      ],
      "metadata": {
        "id": "c9c4MRXpTxel"
      }
    },
    {
      "cell_type": "code",
      "source": [
        "# Bonus Challenge: Group by \"City\" and find the average salary for each city.\n",
        "grouped_by_city = df.groupby('City')['Salary'].mean() #find city first, then get access to salaries and find average of them\n",
        "print(grouped_by_city)"
      ],
      "metadata": {
        "colab": {
          "base_uri": "https://localhost:8080/"
        },
        "id": "tIpjuJKqTyRJ",
        "outputId": "1e7638d1-e783-47da-e46d-932549896339"
      },
      "execution_count": null,
      "outputs": [
        {
          "output_type": "stream",
          "name": "stdout",
          "text": [
            "City\n",
            "Chicago          45000.0\n",
            "Los Angeles      70000.0\n",
            "New York         52500.0\n",
            "San Francisco    80000.0\n",
            "Name: Salary, dtype: float64\n"
          ]
        }
      ]
    }
  ]
}